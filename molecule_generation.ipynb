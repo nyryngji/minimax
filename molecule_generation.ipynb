{
 "cells": [
  {
   "cell_type": "code",
   "execution_count": 6,
   "id": "c7149389",
   "metadata": {},
   "outputs": [],
   "source": [
    "import pandas as pd\n",
    "data = pd.read_csv(\"drug_design.csv\")   # sample_data 폴더 내의 rnn_train.csv 파일을 DataFrame 타입으로 불러오기\n",
    "data['SMILES'][:10000].to_csv('drug_design.txt',sep='\\n')   # 윗 줄에서 불러온 파일을 구분자를 '\\n'(줄 바꿈)으로 변경하여 rnn_train.txt 파일로 저장\n",
    "with open('drug_design.txt', 'r') as f:   # rnn_train.txt 파일 불러오기\n",
    "    text = f.read()"
   ]
  },
  {
   "cell_type": "code",
   "execution_count": 7,
   "id": "48d2e9e1",
   "metadata": {},
   "outputs": [],
   "source": [
    "import numpy as np\n",
    "# text 내의 데이터 종류를 보기위해 집합(set)으로 타입 변경 (set 타입은 데이터 중복을 없애줌)\n",
    "sets=set(text)\n",
    "chars = tuple(sets)\n",
    "# chars 내의 데이터로 key 는 인덱스로, value 는 기존 데이터로 갖는 dicktionary를 int2char에 저장\n",
    "# 나중에 모델 출력 시 숫자로 나오는데 이것을 다시 Char로 변환하기 위함\n",
    "int2char = dict(enumerate(chars))\n",
    "# char2int에 int2char의 key 와 value를 반전하여 저장(모델 입력에 활용 숫자 변환)\n",
    "char2int = {ch: ii for ii, ch in int2char.items()}\n",
    "# text의 데이터를 char2int에 key로 삽입하여 각 문자에 대응하는 숫자로 변경한다.\n",
    "encoded = np.array([char2int[ch] for ch in text if ch!='\\n' ])"
   ]
  },
  {
   "cell_type": "code",
   "execution_count": 8,
   "id": "303fd192",
   "metadata": {},
   "outputs": [
    {
     "data": {
      "text/plain": [
       "(184656,)"
      ]
     },
     "execution_count": 8,
     "metadata": {},
     "output_type": "execute_result"
    }
   ],
   "source": [
    "encoded.shape"
   ]
  },
  {
   "cell_type": "code",
   "execution_count": 9,
   "id": "867c5b27",
   "metadata": {},
   "outputs": [
    {
     "name": "stdout",
     "output_type": "stream",
     "text": [
      "{'2': 0, 'I': 1, 'N': 2, '\\n': 3, '1': 4, '8': 5, 'E': 6, 'L': 7, 'M': 8, '#': 9, '[': 10, '9': 11, 'c': 12, '+': 13, '4': 14, 'H': 15, '3': 16, 'l': 17, 'C': 18, ']': 19, 'r': 20, 'P': 21, '(': 22, '-': 23, 'O': 24, 'n': 25, ')': 26, '0': 27, 'F': 28, '5': 29, '=': 30, '6': 31, 'B': 32, 's': 33, 'o': 34, 'S': 35, '7': 36}\n",
      "{0: '2', 1: 'I', 2: 'N', 3: '\\n', 4: '1', 5: '8', 6: 'E', 7: 'L', 8: 'M', 9: '#', 10: '[', 11: '9', 12: 'c', 13: '+', 14: '4', 15: 'H', 16: '3', 17: 'l', 18: 'C', 19: ']', 20: 'r', 21: 'P', 22: '(', 23: '-', 24: 'O', 25: 'n', 26: ')', 27: '0', 28: 'F', 29: '5', 30: '=', 31: '6', 32: 'B', 33: 's', 34: 'o', 35: 'S', 36: '7'}\n",
      "\n",
      "SMILES\n",
      "0\n",
      "CCO\n",
      "1\n",
      "C\n",
      "2\n",
      "\n",
      "[35  8  1  7  6 35 27 18 18 24  4 18  0 18 24 16  2 18 18 35]\n"
     ]
    }
   ],
   "source": [
    "print(char2int)\n",
    "print(int2char)\n",
    "print(text[:20])\n",
    "print(encoded[:20])"
   ]
  },
  {
   "cell_type": "code",
   "execution_count": 10,
   "id": "9a6448c5",
   "metadata": {},
   "outputs": [],
   "source": [
    "def one_hot_encode(arr, n_labels):   \n",
    "    one_hot = np.zeros((np.multiply(*arr.shape), n_labels), dtype=np.float32)#(1600,35) 초기화\n",
    "    one_hot[np.arange(one_hot.shape[0]), arr.flatten()] = 1.\n",
    "    one_hot = one_hot.reshape((*arr.shape, n_labels))\n",
    "    return one_hot"
   ]
  },
  {
   "cell_type": "code",
   "execution_count": 11,
   "id": "bd907ea6",
   "metadata": {},
   "outputs": [],
   "source": [
    "import torch        # 오픈소스 머신 러닝 라이브러리 pytorch\n",
    "from torch import nn  # pytorch 내의 모델 정의용 라이브러리\n",
    "import torch.nn.functional as F   # pytorch 내의 모델 학습 시 사용되는 함수들이 모여있는 라이브러리"
   ]
  },
  {
   "cell_type": "code",
   "execution_count": 12,
   "id": "8ec22828",
   "metadata": {},
   "outputs": [
    {
     "name": "stdout",
     "output_type": "stream",
     "text": [
      "No GPU available, training on CPU; consider making n_epochs very small.\n"
     ]
    }
   ],
   "source": [
    "# 데이터를 배치 사이즈에 맞게 묶어주는 함수 정의\n",
    "def get_batches(arr, batch_size, seq_length): # 기본값 batch_size = 32, seq_length = 50\n",
    "    # 배치 1 묶음의 길이 = 배치사이즈 * 시퀀스 길이\n",
    "    batch_size_total = batch_size * seq_length\n",
    "    # 배치 묶음의 갯수 지정 (전체 데이터 길이 / 배치 1 묶음의 길이)\n",
    "    n_batches = len(arr)//batch_size_total\n",
    "    \n",
    "    # 배치 사이즈로 묶을 수 있는 크기만 남기고 나머지는 제외\n",
    "    arr = arr[:n_batches * batch_size_total]\n",
    "    # 배치 사이즈에 맞게 재구조화\n",
    "    arr = arr.reshape((batch_size, -1)) # (32,755000)\n",
    "    \n",
    "    # 시퀀스 길이 단위로 n을 증가시키며 반복분 수행\n",
    "    for n in range(0, arr.shape[1], seq_length): #0~755000 50단위로 짜르기 위함\n",
    "        # 시퀀스 길이에 맞게 슬라이싱 (x.shape -> (32, 50))\n",
    "        x = arr[:, n:n+seq_length]\n",
    "        # x 와 같은 구조의 배열을 0으로 채워서 y 에 저장\n",
    "        y = np.zeros_like(x)\n",
    "        # x를 한칸씩 이동시켜 y에 저장\n",
    "        try:\n",
    "            y[:, :-1], y[:, -1] = x[:, 1:], arr[:, n+seq_length]\n",
    "        except IndexError:\n",
    "            y[:, :-1], y[:, -1] = x[:, 1:], arr[:, 0]\n",
    "        yield x, y\n",
    "\n",
    "# GPU 사용이 가능한지 확인\n",
    "train_on_gpu = torch.cuda.is_available()\n",
    "if(train_on_gpu):\n",
    "    print('Training on GPU!')\n",
    "else: \n",
    "    print('No GPU available, training on CPU; consider making n_epochs very small.')"
   ]
  },
  {
   "cell_type": "code",
   "execution_count": 13,
   "id": "2d43b667",
   "metadata": {},
   "outputs": [
    {
     "name": "stdout",
     "output_type": "stream",
     "text": [
      "1600\n",
      "115\n"
     ]
    }
   ],
   "source": [
    "batch_size = 32\n",
    "seq_length = 50\n",
    "batch_size_total = batch_size * seq_length #1600\n",
    "print(batch_size_total)\n",
    "n_batches = len(encoded)//batch_size_total\n",
    "print(n_batches)"
   ]
  },
  {
   "cell_type": "code",
   "execution_count": 14,
   "id": "003bc433",
   "metadata": {},
   "outputs": [
    {
     "data": {
      "text/plain": [
       "(184000, (184000,))"
      ]
     },
     "execution_count": 14,
     "metadata": {},
     "output_type": "execute_result"
    }
   ],
   "source": [
    "arr = encoded[:n_batches * batch_size_total]\n",
    "len(arr), arr.shape"
   ]
  },
  {
   "cell_type": "code",
   "execution_count": 15,
   "id": "1fc54e2d",
   "metadata": {},
   "outputs": [
    {
     "data": {
      "text/plain": [
       "(32, (32, 5750))"
      ]
     },
     "execution_count": 15,
     "metadata": {},
     "output_type": "execute_result"
    }
   ],
   "source": [
    "arr = arr.reshape((batch_size, -1))\n",
    "len(arr), arr.shape"
   ]
  },
  {
   "cell_type": "code",
   "execution_count": 16,
   "id": "f762e615",
   "metadata": {},
   "outputs": [
    {
     "name": "stdout",
     "output_type": "stream",
     "text": [
      "[ 4  4 27  0  4 24 30 35  4 18 35 35 18  4  4 27  0  0  2 18  4 18 24 18\n",
      "  4 30 24  4 27  0 16  2 18  4 18 18  2 18  4 30 24  4 27  0 14  2 18  4\n",
      " 18 24]\n",
      "50\n",
      "[ 4 27  0  4 24 30 35  4 18 35 35 18  4  4 27  0  0  2 18  4 18 24 18  4\n",
      " 30 24  4 27  0 16  2 18  4 18 18  2 18  4 30 24  4 27  0 14  2 18  4 18\n",
      " 24  4]\n",
      "50\n",
      "(32, 50) (32, 50)\n"
     ]
    }
   ],
   "source": [
    "#x와 y의 값이 동일한데 1개 이후의 시퀀스를 예측하도록 1 shift해서 y를 만듬\n",
    "for n in range(0, arr.shape[1], seq_length):\n",
    "        # The features\n",
    "        x = arr[:, n:n+seq_length]\n",
    "        # 한칸씩 이동 시킴\n",
    "        y = np.zeros_like(x)\n",
    "        try:\n",
    "            y[:, :-1], y[:, -1] = x[:, 1:], arr[:, n+seq_length]\n",
    "        except IndexError:\n",
    "            y[:, :-1], y[:, -1] = x[:, 1:], arr[:, 0]\n",
    "print(x[1])\n",
    "print(len(x[1]))\n",
    "print(y[1])\n",
    "print(len(y[1]))\n",
    "print(x.shape, y.shape)"
   ]
  },
  {
   "cell_type": "code",
   "execution_count": 17,
   "id": "735f4f7b",
   "metadata": {},
   "outputs": [],
   "source": [
    "class RNN(nn.Module):\n",
    "    def __init__(self, tokens, n_hidden=10, n_layers=2,\n",
    "                               drop_prob=0.2, lr=0.001):\n",
    "        super().__init__()\n",
    "        self.drop_prob = drop_prob\n",
    "        self.n_layers = n_layers\n",
    "        self.n_hidden = n_hidden\n",
    "        self.lr = lr\n",
    "\n",
    "        self.chars = tokens\n",
    "        self.int2char = dict(enumerate(self.chars))\n",
    "        self.char2int = {ch: ii for ii, ch in self.int2char.items()}\n",
    "\n",
    "        # LSTM (Long Short-Term Memory) 선언\n",
    "        self.lstm = nn.LSTM(len(self.chars), n_hidden, n_layers, \n",
    "                            dropout=drop_prob, batch_first=True)\n",
    "        self.dropout = nn.Dropout(drop_prob)\n",
    "        self.fc = nn.Linear(n_hidden, len(self.chars))\n",
    "\n",
    "    def forward(self, x, hidden):\n",
    "        r_output, hidden = self.lstm(x, hidden)\n",
    "        out = self.dropout(r_output)\n",
    "        out = out.contiguous().view(-1, self.n_hidden)\n",
    "        out = self.fc(out)\n",
    "        return out, hidden\n",
    "\n",
    "\n",
    "    def init_hidden(self, batch_size):\n",
    "        ''' Initializes hidden state '''\n",
    "        weight = next(self.parameters()).data\n",
    "\n",
    "        if (train_on_gpu):\n",
    "            hidden = (weight.new(self.n_layers, batch_size, self.n_hidden).zero_().cuda(),\n",
    "                  weight.new(self.n_layers, batch_size, self.n_hidden).zero_().cuda())\n",
    "        else:\n",
    "            hidden = (weight.new(self.n_layers, batch_size, self.n_hidden).zero_(),\n",
    "                      weight.new(self.n_layers, batch_size, self.n_hidden).zero_())\n",
    "\n",
    "        return hidden"
   ]
  },
  {
   "cell_type": "code",
   "execution_count": 18,
   "id": "2703f799",
   "metadata": {},
   "outputs": [],
   "source": [
    "def train(model, data, epochs=3, batch_size=32, seq_length=50, lr=0.001, clip=5, val_frac=0.1,print_step=1000):\n",
    "    model.train()\n",
    "    optimizer = torch.optim.Adam(model.parameters(), lr=lr)\n",
    "    # 손실함수로는 크로스엔트로피 사용\n",
    "    loss_fn = nn.CrossEntropyLoss()\n",
    "\n",
    "    # 훈련 데이터와 검즘 데이터 분할\n",
    "    val_idx = int(len(data)*(1-val_frac))\n",
    "    data, val_data = data[:val_idx], data[val_idx:]\n",
    "\n",
    "    # GPU 사용 가능 시 net을 GPU 메모리로 이동\n",
    "    if(train_on_gpu):\n",
    "        model.cuda()\n",
    "\n",
    "    # 배치 학습 수행 횟수 체크하기 위한 변수\n",
    "    steps = 0\n",
    "    n_chars = len(model.chars)#35\n",
    "    for epoch in range(epochs):\n",
    "        # hidden 레이어를 barch_size에 맞게 초기화\n",
    "        h = model.init_hidden(batch_size)\n",
    "        # data를 batch_size에 맞게 분할 후 하나씩 반복\n",
    "        for x, y in get_batches(data, batch_size, seq_length):\n",
    "            steps += 1 \n",
    "            # batch_size에 맞게 나눠진 x를 one-hot 인코딩 수행\n",
    "            x = one_hot_encode(x, n_chars)\n",
    "            # one-hot 인코딩 된 x 를 inputs에, 텍스트 데이터인 y를 targets에 저장\n",
    "            inputs, targets = torch.from_numpy(x), torch.from_numpy(y)\n",
    "            # GPU 사용 가능 시 inputs과 targets을 GPU 메모리로 이동\n",
    "            if(train_on_gpu):\n",
    "                inputs, targets = inputs.cuda(), targets.cuda()\n",
    "\n",
    "            h = tuple([each.data for each in h])\n",
    "            model.zero_grad()\n",
    "            output, h = model(inputs, h)\n",
    "            loss = loss_fn(output, targets.view(batch_size*seq_length).long())\n",
    "            loss.backward()\n",
    "            nn.utils.clip_grad_norm_(model.parameters(), clip)\n",
    "            optimizer.step()\n",
    "\n",
    "\n",
    "            if steps % print_step == 0:\n",
    "                val_h = model.init_hidden(batch_size)\n",
    "                val_losses = []\n",
    "                model.eval()\n",
    "                for x, y in get_batches(val_data, batch_size, seq_length):\n",
    "                    # batch_size에 맞게 나눠진 x를 one-hot 인코딩 수행\n",
    "                    x = one_hot_encode(x, n_chars)\n",
    "                    # one-hot 인코딩 된 x 를 inputs에, 텍스트 데이터인 y를 targets에 저장\n",
    "                    x, y = torch.from_numpy(x), torch.from_numpy(y)\n",
    "                    val_h = tuple([each.data for each in val_h])\n",
    "\n",
    "                    inputs, targets = x, y\n",
    "                    # GPU 사용 가능 시 inputs과 targets을 GPU 메모리로 이동\n",
    "                    if(train_on_gpu):\n",
    "                        inputs, targets = inputs.cuda(), targets.cuda()\n",
    "                 \n",
    "                    # model에 삽입하여 순전파 진행 (결과는 output과 val_h에 저장)\n",
    "                    output, val_h = model(inputs, val_h)\n",
    "                    val_loss = loss_fn(output, targets.view(batch_size*seq_length).long())\n",
    "                    val_losses.append(val_loss.item())\n",
    "\n",
    "                model.train()\n",
    "                # 각각 Epoch, step, loss(train loss), Val Loss(val_loeese 리스트의 평균) 를 출력 \n",
    "                print(\"Epoch: {}/{}...\".format(epoch+1, epochs),\n",
    "                      \"Step: {}...\".format(steps),\n",
    "                      \"Loss: {:.4f}...\".format(loss.item()),\n",
    "                      \"Val Loss: {:.4f}\".format(np.mean(val_losses)))"
   ]
  },
  {
   "cell_type": "code",
   "execution_count": 19,
   "id": "a35277cf",
   "metadata": {},
   "outputs": [
    {
     "name": "stdout",
     "output_type": "stream",
     "text": [
      "RNN(\n",
      "  (lstm): LSTM(37, 56, num_layers=2, batch_first=True, dropout=0.2)\n",
      "  (dropout): Dropout(p=0.2, inplace=False)\n",
      "  (fc): Linear(in_features=56, out_features=37, bias=True)\n",
      ")\n",
      "Epoch: 1/3... Step: 100... Loss: 2.7344... Val Loss: 2.6996\n",
      "Epoch: 2/3... Step: 200... Loss: 2.5446... Val Loss: 2.5181\n",
      "Epoch: 3/3... Step: 300... Loss: 2.2370... Val Loss: 2.3409\n"
     ]
    }
   ],
   "source": [
    "# n_hidden, n_layer를 각각 56, 2 로 저장\n",
    "n_hidden=56\n",
    "n_layers=2 \n",
    "model = RNN(chars, n_hidden, n_layers)\n",
    "print(model) \n",
    "# 하이퍼파라미터 (batch_size, seq_length, n_epochs) 저장\n",
    "batch_size = 32\n",
    "seq_length = 50\n",
    "epochs = 3\n",
    "# 학습 시작\n",
    "train(model, encoded, epochs=epochs, batch_size=batch_size, seq_length=seq_length, lr=0.001,print_step=100)"
   ]
  },
  {
   "cell_type": "code",
   "execution_count": 20,
   "id": "f420216a",
   "metadata": {},
   "outputs": [],
   "source": [
    "# 모델 이름 변수\n",
    "model_name = 'rnn_1_epoch.net'\n",
    "\n",
    "\n",
    "# n_hidden, n_layer, state_dict, tokens를 딕셔너리 형태로 저장\n",
    "checkpoint = {'n_hidden': model.n_hidden,\n",
    "              'n_layers': model.n_layers,\n",
    "              'state_dict': model.state_dict(),# 학습된 모델의 가중치\n",
    "              'tokens': model.chars}\n",
    "\n",
    "# 모델을 현재 폴더에 저장\n",
    "with open(model_name, 'wb') as f:\n",
    "    torch.save(checkpoint, f)\n",
    "\n",
    "\n",
    "# 다음 문자 예측 방법 정의\n",
    "def predict(model, char, h=None, top_k=None):\n",
    "\n",
    "        # 입력된 문자를 해당 문자에 맞는 숫자로 저장하고(encoding) 이를 numpy array로 저장\n",
    "        x = np.array([[model.char2int[char]]])\n",
    "        # x 를 one-hot 인코딩 진행\n",
    "        x = one_hot_encode(x, len(model.chars))\n",
    "        # numpy array를 텐서로 변하여 input에 저장\n",
    "        inputs = torch.from_numpy(x)\n",
    "\n",
    "        if(train_on_gpu):\n",
    "            inputs = inputs.cuda()\n",
    "\n",
    "        h = tuple([each.data for each in h])\n",
    "        out, h = model(inputs, h)\n",
    "\n",
    "        # softmax함수를 이용하여 각 문자열일 확률 계산\n",
    "        p = F.softmax(out, dim=1).data\n",
    "        # 만약 p가 GPU 메모리에 있다면 메인메모리로 이동\n",
    "        if(train_on_gpu):\n",
    "            p = p.cpu() \n",
    "\n",
    "        if top_k is None:\n",
    "            top_ch = np.arange(len(model.chars))\n",
    "        else:\n",
    "            p, top_ch = p.topk(top_k)\n",
    "            top_ch = top_ch.numpy().squeeze()\n",
    "\n",
    "        p = p.numpy().squeeze()\n",
    "        char = np.random.choice(top_ch, p=p/p.sum())\n",
    "\n",
    "        return model.int2char[char], h"
   ]
  },
  {
   "cell_type": "code",
   "execution_count": 21,
   "id": "a7768192",
   "metadata": {},
   "outputs": [],
   "source": [
    "# 문자열 예측을 위한 함수 정의\n",
    "def sample(model, size, prime='The', top_k=None):\n",
    "    if(train_on_gpu):\n",
    "        model.cuda()\n",
    "    else:\n",
    "        model.cpu()\n",
    "    model.eval() \n",
    "    chars = [ch for ch in prime]\n",
    "    h = model.init_hidden(1)\n",
    "    for ch in prime:\n",
    "        char, h = predict(model, ch, h, top_k=top_k)\n",
    "    chars.append(char)\n",
    "    for ii in range(size):\n",
    "        char, h = predict(model, chars[-1], h, top_k=top_k)\n",
    "        chars.append(char)\n",
    "    return ''.join(chars)"
   ]
  },
  {
   "cell_type": "code",
   "execution_count": 25,
   "id": "a0fba869",
   "metadata": {},
   "outputs": [
    {
     "name": "stdout",
     "output_type": "stream",
     "text": [
      "C)ONC((=N=CO()(N=C=((C(=NCNNOCN11CCC()(OO11C1C(NCC)C\n"
     ]
    }
   ],
   "source": [
    "print(sample(model, 50, prime='C', top_k=10))"
   ]
  },
  {
   "cell_type": "code",
   "execution_count": null,
   "id": "490ccf49",
   "metadata": {},
   "outputs": [],
   "source": []
  }
 ],
 "metadata": {
  "kernelspec": {
   "display_name": "Python 3",
   "language": "python",
   "name": "python3"
  },
  "language_info": {
   "codemirror_mode": {
    "name": "ipython",
    "version": 3
   },
   "file_extension": ".py",
   "mimetype": "text/x-python",
   "name": "python",
   "nbconvert_exporter": "python",
   "pygments_lexer": "ipython3",
   "version": "3.10.6"
  }
 },
 "nbformat": 4,
 "nbformat_minor": 5
}
