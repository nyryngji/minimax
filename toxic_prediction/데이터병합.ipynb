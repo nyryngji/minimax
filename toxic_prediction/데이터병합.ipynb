{
 "cells": [
  {
   "cell_type": "code",
   "execution_count": 16,
   "id": "a03a7400",
   "metadata": {},
   "outputs": [],
   "source": [
    "import pandas as pd \n",
    "from rdkit import Chem\n",
    "import numpy as np\n",
    "\n",
    "# smiles + IC50 데이터 불러오기\n",
    "# 타겟 물질 : hERG, HepG2, CYP2C9, CYP2D6, CYP3A4\n",
    "\n",
    "cols = ['Smiles','Standard Type', 'Standard Relation', 'Standard Value',\n",
    "        'Standard Units','Data Validity Comment','Molecular Weight']\n",
    "\n",
    "herg = pd.read_csv('hERG_IC50.csv',sep=';')[cols]\n",
    "hepg2 = pd.read_csv('HepG2_IC50.csv',sep=';')[cols]\n",
    "cyp2c9 = pd.read_csv('CYP2C9_IC50.csv',sep=';')[cols]\n",
    "cyp2d6 = pd.read_csv('CYP2D6_IC50.csv',sep=';')[cols]\n",
    "cyp3a4 = pd.read_csv('CYP3A4_IC50.csv',sep=';')[cols]"
   ]
  },
  {
   "cell_type": "code",
   "execution_count": 17,
   "id": "40183747",
   "metadata": {},
   "outputs": [],
   "source": [
    "def preprocessing_data(df, target):\n",
    "\tdf = df[~df['Smiles'].isnull()] # smiles가 없는 행은 전부 제거\n",
    "\tdf['canon_smiles'] = [Chem.CanonSmiles(smiles) for smiles in df['Smiles']]\n",
    "\tdf = df[df['Data Validity Comment'].isna()]\n",
    "\n",
    "\t# 단위가 다른 것을 통일 (ug.mL-1을 nM 단위로 바꾸기)\n",
    "\tfor idx in df[df['Standard Units']=='ug.mL-1'].index:\n",
    "\t\tdf.loc[idx,'Standard Value'] = 10**(6)*df.loc[idx]['Standard Value'] / df.loc[idx]['Molecular Weight'].astype('float')\n",
    "\t\tdf.loc[idx,'Standard Units'] = 'nM'\n",
    "\n",
    "\tdf = df[df['Standard Units'] == 'nM']\n",
    "\tdf[f'{target}_pIC50'] = -np.log10(df['Standard Value'])\n",
    "\n",
    "\tdup_diff_mean = []\n",
    "\tdup_df = []\n",
    "\n",
    "\tdup_smiles = [smiles for smiles, cnt in df['canon_smiles'].value_counts().items() if cnt > 1]\n",
    "\n",
    "\tfor smiles in dup_smiles:\n",
    "\t\tduplicate_smiles_df = df[df['canon_smiles'] == smiles]\n",
    "\t\tpIC50_mean = duplicate_smiles_df[f'{target}_pIC50'].mean()\n",
    "\t\tpIC50_max = duplicate_smiles_df[f'{target}_pIC50'].max()\n",
    "\t\tpIC50_min = duplicate_smiles_df[f'{target}_pIC50'].min()\n",
    "\t\tdup_diff_mean.append(max(abs(pIC50_max - pIC50_mean), abs(pIC50_min - pIC50_mean)))\n",
    "\t\t\n",
    "\t\tcompare_value = round(sum(dup_diff_mean) / len(dup_diff_mean), 1)\n",
    "\n",
    "\t\tif max(abs(pIC50_max - pIC50_mean), abs(pIC50_min - pIC50_mean)) <= compare_value:\n",
    "\t\t\tnew_data = list(duplicate_smiles_df.iloc[0])\n",
    "\t\t\tnew_data[-1] = pIC50_mean\n",
    "\t\t\tdup_df.append(new_data)\n",
    "\n",
    "\tdup_df = pd.DataFrame(dup_df, columns=df.columns)\n",
    "\n",
    "\tdf = df[~df['canon_smiles'].isin(dup_smiles)]\n",
    "\tdf = pd.concat([df, dup_df])\n",
    "\t\n",
    "\treturn df[['canon_smiles',f'{target}_pIC50']]"
   ]
  },
  {
   "cell_type": "code",
   "execution_count": 18,
   "id": "50770486",
   "metadata": {},
   "outputs": [
    {
     "name": "stderr",
     "output_type": "stream",
     "text": [
      "C:\\Users\\amysm\\AppData\\Local\\Temp\\ipykernel_15884\\994802779.py:3: SettingWithCopyWarning: \n",
      "A value is trying to be set on a copy of a slice from a DataFrame.\n",
      "Try using .loc[row_indexer,col_indexer] = value instead\n",
      "\n",
      "See the caveats in the documentation: https://pandas.pydata.org/pandas-docs/stable/user_guide/indexing.html#returning-a-view-versus-a-copy\n",
      "  df['canon_smiles'] = [Chem.CanonSmiles(smiles) for smiles in df['Smiles']]\n",
      "C:\\Users\\amysm\\AppData\\Local\\Temp\\ipykernel_15884\\994802779.py:3: SettingWithCopyWarning: \n",
      "A value is trying to be set on a copy of a slice from a DataFrame.\n",
      "Try using .loc[row_indexer,col_indexer] = value instead\n",
      "\n",
      "See the caveats in the documentation: https://pandas.pydata.org/pandas-docs/stable/user_guide/indexing.html#returning-a-view-versus-a-copy\n",
      "  df['canon_smiles'] = [Chem.CanonSmiles(smiles) for smiles in df['Smiles']]\n",
      "C:\\Users\\amysm\\AppData\\Local\\Temp\\ipykernel_15884\\994802779.py:3: SettingWithCopyWarning: \n",
      "A value is trying to be set on a copy of a slice from a DataFrame.\n",
      "Try using .loc[row_indexer,col_indexer] = value instead\n",
      "\n",
      "See the caveats in the documentation: https://pandas.pydata.org/pandas-docs/stable/user_guide/indexing.html#returning-a-view-versus-a-copy\n",
      "  df['canon_smiles'] = [Chem.CanonSmiles(smiles) for smiles in df['Smiles']]\n",
      "C:\\Users\\amysm\\AppData\\Local\\Temp\\ipykernel_15884\\994802779.py:3: SettingWithCopyWarning: \n",
      "A value is trying to be set on a copy of a slice from a DataFrame.\n",
      "Try using .loc[row_indexer,col_indexer] = value instead\n",
      "\n",
      "See the caveats in the documentation: https://pandas.pydata.org/pandas-docs/stable/user_guide/indexing.html#returning-a-view-versus-a-copy\n",
      "  df['canon_smiles'] = [Chem.CanonSmiles(smiles) for smiles in df['Smiles']]\n",
      "C:\\Users\\amysm\\AppData\\Local\\Temp\\ipykernel_15884\\994802779.py:3: SettingWithCopyWarning: \n",
      "A value is trying to be set on a copy of a slice from a DataFrame.\n",
      "Try using .loc[row_indexer,col_indexer] = value instead\n",
      "\n",
      "See the caveats in the documentation: https://pandas.pydata.org/pandas-docs/stable/user_guide/indexing.html#returning-a-view-versus-a-copy\n",
      "  df['canon_smiles'] = [Chem.CanonSmiles(smiles) for smiles in df['Smiles']]\n"
     ]
    }
   ],
   "source": [
    "herg = preprocessing_data(herg, 'herg')\n",
    "hepg2 = preprocessing_data(hepg2, 'hepg2')\n",
    "cyp2c9 = preprocessing_data(cyp2c9, 'cyp2c9')\n",
    "cyp2d6 = preprocessing_data(cyp2d6, 'cyp2d6')\n",
    "cyp3a4 = preprocessing_data(cyp3a4, 'cyp3a4')"
   ]
  },
  {
   "cell_type": "code",
   "execution_count": 20,
   "id": "80ce8122",
   "metadata": {},
   "outputs": [
    {
     "data": {
      "text/html": [
       "<div>\n",
       "<style scoped>\n",
       "    .dataframe tbody tr th:only-of-type {\n",
       "        vertical-align: middle;\n",
       "    }\n",
       "\n",
       "    .dataframe tbody tr th {\n",
       "        vertical-align: top;\n",
       "    }\n",
       "\n",
       "    .dataframe thead th {\n",
       "        text-align: right;\n",
       "    }\n",
       "</style>\n",
       "<table border=\"1\" class=\"dataframe\">\n",
       "  <thead>\n",
       "    <tr style=\"text-align: right;\">\n",
       "      <th></th>\n",
       "      <th>canon_smiles</th>\n",
       "      <th>herg_pIC50</th>\n",
       "      <th>hepg2_pIC50</th>\n",
       "      <th>cyp2c9_pIC50</th>\n",
       "      <th>cyp2d6_pIC50</th>\n",
       "      <th>cyp3a4_pIC50</th>\n",
       "    </tr>\n",
       "  </thead>\n",
       "  <tbody>\n",
       "    <tr>\n",
       "      <th>0</th>\n",
       "      <td>Br.CCCCOc1ccc2c3ccnc(C)c3n(CC(C)C)c2c1</td>\n",
       "      <td>NaN</td>\n",
       "      <td>-4.081393</td>\n",
       "      <td>NaN</td>\n",
       "      <td>NaN</td>\n",
       "      <td>NaN</td>\n",
       "    </tr>\n",
       "    <tr>\n",
       "      <th>1</th>\n",
       "      <td>Br.CCCCOc1ccc2c3ccnc(C)c3n(CCCC)c2c1</td>\n",
       "      <td>NaN</td>\n",
       "      <td>-4.190166</td>\n",
       "      <td>NaN</td>\n",
       "      <td>NaN</td>\n",
       "      <td>NaN</td>\n",
       "    </tr>\n",
       "    <tr>\n",
       "      <th>2</th>\n",
       "      <td>Br.CCCCn1c2cc(O)ccc2c2ccnc(C)c21</td>\n",
       "      <td>NaN</td>\n",
       "      <td>-4.910579</td>\n",
       "      <td>NaN</td>\n",
       "      <td>NaN</td>\n",
       "      <td>NaN</td>\n",
       "    </tr>\n",
       "    <tr>\n",
       "      <th>3</th>\n",
       "      <td>Br.CCCCn1c2cc(OC(C)C)ccc2c2ccnc(C)c21</td>\n",
       "      <td>NaN</td>\n",
       "      <td>-4.480003</td>\n",
       "      <td>NaN</td>\n",
       "      <td>NaN</td>\n",
       "      <td>NaN</td>\n",
       "    </tr>\n",
       "    <tr>\n",
       "      <th>4</th>\n",
       "      <td>Br.CCCCn1c2cc(OCC)ccc2c2ccnc(C)c21</td>\n",
       "      <td>NaN</td>\n",
       "      <td>-4.638244</td>\n",
       "      <td>NaN</td>\n",
       "      <td>NaN</td>\n",
       "      <td>NaN</td>\n",
       "    </tr>\n",
       "  </tbody>\n",
       "</table>\n",
       "</div>"
      ],
      "text/plain": [
       "                             canon_smiles  herg_pIC50  hepg2_pIC50  \\\n",
       "0  Br.CCCCOc1ccc2c3ccnc(C)c3n(CC(C)C)c2c1         NaN    -4.081393   \n",
       "1    Br.CCCCOc1ccc2c3ccnc(C)c3n(CCCC)c2c1         NaN    -4.190166   \n",
       "2        Br.CCCCn1c2cc(O)ccc2c2ccnc(C)c21         NaN    -4.910579   \n",
       "3   Br.CCCCn1c2cc(OC(C)C)ccc2c2ccnc(C)c21         NaN    -4.480003   \n",
       "4      Br.CCCCn1c2cc(OCC)ccc2c2ccnc(C)c21         NaN    -4.638244   \n",
       "\n",
       "   cyp2c9_pIC50  cyp2d6_pIC50  cyp3a4_pIC50  \n",
       "0           NaN           NaN           NaN  \n",
       "1           NaN           NaN           NaN  \n",
       "2           NaN           NaN           NaN  \n",
       "3           NaN           NaN           NaN  \n",
       "4           NaN           NaN           NaN  "
      ]
     },
     "execution_count": 20,
     "metadata": {},
     "output_type": "execute_result"
    }
   ],
   "source": [
    "from functools import reduce\n",
    "\n",
    "# 예시: df1, df2, df3, df4, df5\n",
    "dfs = [herg, hepg2, cyp2c9, cyp2d6, cyp3a4]\n",
    "key = \"canon_smiles\"\n",
    "\n",
    "# 차례로 merge (outer join 사용)\n",
    "merged_df = reduce(lambda left, right: pd.merge(left, right, on=key, how='outer'), dfs)\n",
    "merged_df.head()"
   ]
  },
  {
   "cell_type": "code",
   "execution_count": 25,
   "id": "803f35cb",
   "metadata": {},
   "outputs": [
    {
     "name": "stdout",
     "output_type": "stream",
     "text": [
      "canon_smiles의 결측치 개수는 0\n",
      "herg_pIC50의 결측치 개수는 32153\n",
      "hepg2_pIC50의 결측치 개수는 20549\n",
      "cyp2c9_pIC50의 결측치 개수는 38736\n",
      "cyp2d6_pIC50의 결측치 개수는 37985\n",
      "cyp3a4_pIC50의 결측치 개수는 35366\n"
     ]
    }
   ],
   "source": [
    "for i in merged_df.columns:\n",
    "    print(f'{i}의 결측치 개수는', merged_df[i].isnull().sum())"
   ]
  },
  {
   "cell_type": "code",
   "execution_count": 26,
   "id": "bf8228c7",
   "metadata": {},
   "outputs": [],
   "source": [
    "merged_df.to_csv('need_fill_nullvalue.csv',index=False)"
   ]
  }
 ],
 "metadata": {
  "kernelspec": {
   "display_name": "Python 3",
   "language": "python",
   "name": "python3"
  },
  "language_info": {
   "codemirror_mode": {
    "name": "ipython",
    "version": 3
   },
   "file_extension": ".py",
   "mimetype": "text/x-python",
   "name": "python",
   "nbconvert_exporter": "python",
   "pygments_lexer": "ipython3",
   "version": "3.10.6"
  }
 },
 "nbformat": 4,
 "nbformat_minor": 5
}
